{
 "cells": [
  {
   "cell_type": "code",
   "execution_count": 1,
   "id": "d2a8e0b7",
   "metadata": {},
   "outputs": [
    {
     "name": "stdout",
     "output_type": "stream",
     "text": [
      "Label probs: [[2.048e-02 9.268e-01 5.228e-02 3.713e-05 3.929e-04]]\n"
     ]
    }
   ],
   "source": [
    "import numpy as np\n",
    "import torch\n",
    "import clip\n",
    "from PIL import Image\n",
    "\n",
    "# 加载模型，这里验证了：ViT-B/16, RN50, RN50x16\n",
    "device = \"cuda\" if torch.cuda.is_available() else \"cpu\"\n",
    "model, preprocess = clip.load(\"ViT-B/16\", device=device)\n",
    "# model, preprocess = clip.load(\"RN50\", device=device)\n",
    "\n",
    "# 创建编码器和期望得到的图片类别\n",
    "image = preprocess(Image.open(\"shanghai dumpling.jpeg\")).unsqueeze(0).to(device)\n",
    "text = clip.tokenize([ \"Wonton\",\"Shanghai Dumpling\", \"steam bun\", \"flour\", \"Shanghai\"]).to(device)\n",
    "# image = preprocess(Image.open(\"purple bun.jpg\")).unsqueeze(0).to(device)\n",
    "# text = clip.tokenize([ \"Wonton\",\"Shanghai Dumpling\", \"purple\", \"purple bun\"]).to(device)\n",
    "# text = clip.tokenize([ \"Wonton\",\"Shanghai Dumpling\", \"purple\", \"steamed bun\"]).to(device)\n",
    "\n",
    "\n",
    "with torch.no_grad():\n",
    "    \n",
    "    # 提取特征\n",
    "    image_features = model.encode_image(image)\n",
    "    text_features = model.encode_text(text)\n",
    "    \n",
    "    # 计算相似度\n",
    "    logits_per_image, logits_per_text = model(image, text)\n",
    "    probs = logits_per_image.softmax(dim=-1).cpu().numpy()\n",
    "    \n",
    "# 输出每个类别的概率，概率高的相似度高\n",
    "print(\"Label probs:\", probs) "
   ]
  }
 ],
 "metadata": {
  "kernelspec": {
   "display_name": "pytorch(python 3.8)",
   "language": "python",
   "name": "pytorch"
  },
  "language_info": {
   "codemirror_mode": {
    "name": "ipython",
    "version": 3
   },
   "file_extension": ".py",
   "mimetype": "text/x-python",
   "name": "python",
   "nbconvert_exporter": "python",
   "pygments_lexer": "ipython3",
   "version": "3.8.13"
  }
 },
 "nbformat": 4,
 "nbformat_minor": 5
}
